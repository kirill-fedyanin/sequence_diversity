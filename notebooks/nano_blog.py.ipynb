{
 "cells": [
  {
   "cell_type": "code",
   "execution_count": 2,
   "outputs": [],
   "source": [
    "from random import randint\n",
    "from datasets import load_dataset\n",
    "import numpy as np\n",
    "from tokenizers import Tokenizer\n",
    "from tokenizers.models import BPE\n",
    "from tokenizers.pre_tokenizers import Whitespace\n",
    "from tokenizers.trainers import BpeTrainer"
   ],
   "metadata": {
    "collapsed": false,
    "ExecuteTime": {
     "end_time": "2023-07-03T10:31:06.235453796Z",
     "start_time": "2023-07-03T10:31:06.230654609Z"
    }
   }
  },
  {
   "cell_type": "code",
   "execution_count": 3,
   "outputs": [
    {
     "name": "stderr",
     "output_type": "stream",
     "text": [
      "Found cached dataset blog_authorship_corpus (/app/.cache/huggingface/datasets/blog_authorship_corpus/blog_authorship_corpus/1.0.0/805731afe550cdf0514309ef00a058c22e741114fef7245ae76ad4c7fdfa1901)\n"
     ]
    },
    {
     "data": {
      "text/plain": "  0%|          | 0/2 [00:00<?, ?it/s]",
      "application/vnd.jupyter.widget-view+json": {
       "version_major": 2,
       "version_minor": 0,
       "model_id": "9ea36a6d22c844a3ade4d1242a340ca1"
      }
     },
     "metadata": {},
     "output_type": "display_data"
    }
   ],
   "source": [
    "dataset = load_dataset(\"blog_authorship_corpus\")"
   ],
   "metadata": {
    "collapsed": false,
    "ExecuteTime": {
     "end_time": "2023-07-03T10:31:08.860615976Z",
     "start_time": "2023-07-03T10:31:06.235628997Z"
    }
   }
  },
  {
   "cell_type": "code",
   "execution_count": 4,
   "outputs": [
    {
     "name": "stdout",
     "output_type": "stream",
     "text": [
      "903.5\n"
     ]
    }
   ],
   "source": [
    "lengths = []\n",
    "total = len(dataset['train']['text'])\n",
    "lengths = [len(dataset['train']['text'][randint(0, total)]) for i in range(8)]\n",
    "print(np.mean(lengths))"
   ],
   "metadata": {
    "collapsed": false,
    "ExecuteTime": {
     "end_time": "2023-07-03T10:31:16.645774544Z",
     "start_time": "2023-07-03T10:31:08.860816504Z"
    }
   }
  },
  {
   "cell_type": "code",
   "execution_count": 5,
   "outputs": [
    {
     "data": {
      "text/plain": "2"
     },
     "execution_count": 5,
     "metadata": {},
     "output_type": "execute_result"
    }
   ],
   "source": [
    "len(dataset)\n",
    "\n",
    "# lengths = []\n",
    "# from random import randint\n",
    "# import numpy as np\n",
    "# total = len(dataset['train']['text'])\n",
    "# lengths = [len(dataset['train']['text'][randint(0, total)]) for i in range(200)]\n",
    "#"
   ],
   "metadata": {
    "collapsed": false,
    "ExecuteTime": {
     "end_time": "2023-07-03T10:31:16.659021028Z",
     "start_time": "2023-07-03T10:31:16.645627861Z"
    }
   }
  },
  {
   "cell_type": "code",
   "execution_count": 6,
   "outputs": [],
   "source": [
    "chars = set()\n",
    "for i in range(50):\n",
    "    idx = randint(0, total)\n",
    "    text = dataset['train']['text'][idx]\n",
    "    chars.update(set(text))\n",
    "\n"
   ],
   "metadata": {
    "collapsed": false,
    "ExecuteTime": {
     "end_time": "2023-07-03T10:32:02.690746007Z",
     "start_time": "2023-07-03T10:31:16.658876647Z"
    }
   }
  },
  {
   "cell_type": "code",
   "execution_count": 7,
   "outputs": [
    {
     "data": {
      "text/plain": "\"Yeah, sorry for not writing for a whole there, but I've had a pretty busy weekend so far. I found out I have about 20 tests on Tuesday because my teachers are evil...but oh well. We had marching yesterday. It was cool. We stayed inside the whole time, and I got to play second part, so the music part will be really easy. I left early from marching at around 5:00, then went out to dinner with my friends (I made the plans before I knew about marching). So, dinner was fun. It was Kelly's birthday, so it was cool. Then we went to Kel's for a sleepover, and did bunches of neat stuff, and I went to sleep earlier than usual for a sleepover since I had to be at a Bar Mitzvah this morning. It was pretty neat. I have to do this project for CR, and we have to go to two different places of worship than our own. So, one is obviously a Jewish synagogue, and I think I'm going to go to a mosque for my other one, but who knows...so, this has been my only chance to write, and I actually have to go now, so I'll write more later...maybe.  *Ya di amore*\""
     },
     "execution_count": 7,
     "metadata": {},
     "output_type": "execute_result"
    }
   ],
   "source": [
    "dataset['train']['text'][0]"
   ],
   "metadata": {
    "collapsed": false,
    "ExecuteTime": {
     "end_time": "2023-07-03T10:32:03.563034072Z",
     "start_time": "2023-07-03T10:32:02.691831635Z"
    }
   }
  },
  {
   "cell_type": "code",
   "execution_count": 8,
   "outputs": [
    {
     "name": "stdout",
     "output_type": "stream",
     "text": [
      "{'x', 'M', 'F', 'i', 'r', '{', 'Y', '$', '8', 'c', 'K', '\\x99', ',', 'y', 'E', 'D', 'S', '?', '\\x80', 'h', 'm', 'H', 'P', 'B', '¬', 'U', '}', 'J', 'z', 'V', 'A', 'k', 'L', '5', 'a', '0', 'Z', '_', 'g', ';', '&', 'f', ' ', 'u', 'W', 'w', 'R', 'n', '~', '4', '!', ']', 'â', '-', '2', '/', 'p', 'd', '(', '\"', 'X', 'Q', 'l', ')', '+', 'Â', 'O', '3', '.', '¦', '6', '[', 'I', 'o', '7', '1', 'T', '%', 'G', 'e', '>', ':', 'q', 'b', 'j', 't', 's', 'N', '9', '*', 'v', 'C', \"'\"}\n"
     ]
    }
   ],
   "source": [
    "len(chars)\n",
    "print(chars)"
   ],
   "metadata": {
    "collapsed": false,
    "ExecuteTime": {
     "end_time": "2023-07-03T10:32:03.563785152Z",
     "start_time": "2023-07-03T10:32:03.563270562Z"
    }
   }
  },
  {
   "cell_type": "code",
   "execution_count": 9,
   "outputs": [],
   "source": [
    "\n",
    "tokenizer = Tokenizer(BPE())\n",
    "tokenizer.pre_tokenizer = Whitespace()\n",
    "trainer = BpeTrainer(special_tokens=[\"[UNK]\", \"[CLS]\", \"[SEP]\", \"[PAD]\", \"[MASK]\"], vocab_size=500)\n",
    "# tokenizer.train(files=[\"wiki.train.raw\", \"wiki.valid.raw\", \"wiki.test.raw\"], trainer=trainer)"
   ],
   "metadata": {
    "collapsed": false,
    "ExecuteTime": {
     "end_time": "2023-07-03T10:32:03.655961120Z",
     "start_time": "2023-07-03T10:32:03.655652907Z"
    }
   }
  },
  {
   "cell_type": "code",
   "execution_count": 10,
   "outputs": [
    {
     "name": "stdout",
     "output_type": "stream",
     "text": [
      "\n",
      "\n",
      "\n"
     ]
    }
   ],
   "source": [
    "tokenizer.train_from_iterator(dataset['train']['text'], trainer)"
   ],
   "metadata": {
    "collapsed": false,
    "ExecuteTime": {
     "end_time": "2023-07-03T10:32:42.214468504Z",
     "start_time": "2023-07-03T10:32:03.725875669Z"
    }
   }
  },
  {
   "cell_type": "code",
   "execution_count": 11,
   "outputs": [
    {
     "data": {
      "text/plain": "[('[UNK]', 0),\n ('[CLS]', 1),\n ('[SEP]', 2),\n ('[PAD]', 3),\n ('[MASK]', 4),\n ('\\x00', 5),\n ('\\x01', 6),\n ('\\x02', 7),\n ('\\x03', 8),\n ('\\x04', 9),\n ('\\x05', 10),\n ('\\x06', 11),\n ('\\x08', 12),\n ('\\x0f', 13),\n ('\\x10', 14),\n ('\\x12', 15),\n ('\\x13', 16),\n ('\\x14', 17),\n ('\\x15', 18),\n ('\\x16', 19),\n ('\\x17', 20),\n ('\\x1b', 21),\n ('\\x1c', 22),\n ('\\x1d', 23),\n ('\\x1e', 24),\n ('\\x1f', 25),\n ('!', 26),\n ('\"', 27),\n ('#', 28),\n ('$', 29),\n ('%', 30),\n ('&', 31),\n (\"'\", 32),\n ('(', 33),\n (')', 34),\n ('*', 35),\n ('+', 36),\n (',', 37),\n ('-', 38),\n ('.', 39),\n ('/', 40),\n ('0', 41),\n ('1', 42),\n ('2', 43),\n ('3', 44),\n ('4', 45),\n ('5', 46),\n ('6', 47),\n ('7', 48),\n ('8', 49),\n ('9', 50),\n (':', 51),\n (';', 52),\n ('<', 53),\n ('=', 54),\n ('>', 55),\n ('?', 56),\n ('@', 57),\n ('A', 58),\n ('B', 59),\n ('C', 60),\n ('D', 61),\n ('E', 62),\n ('F', 63),\n ('G', 64),\n ('H', 65),\n ('I', 66),\n ('J', 67),\n ('K', 68),\n ('L', 69),\n ('M', 70),\n ('N', 71),\n ('O', 72),\n ('P', 73),\n ('Q', 74),\n ('R', 75),\n ('S', 76),\n ('T', 77),\n ('U', 78),\n ('V', 79),\n ('W', 80),\n ('X', 81),\n ('Y', 82),\n ('Z', 83),\n ('[', 84),\n ('\\\\', 85),\n (']', 86),\n ('^', 87),\n ('_', 88),\n ('`', 89),\n ('a', 90),\n ('b', 91),\n ('c', 92),\n ('d', 93),\n ('e', 94),\n ('f', 95),\n ('g', 96),\n ('h', 97),\n ('i', 98),\n ('j', 99),\n ('k', 100),\n ('l', 101),\n ('m', 102),\n ('n', 103),\n ('o', 104),\n ('p', 105),\n ('q', 106),\n ('r', 107),\n ('s', 108),\n ('t', 109),\n ('u', 110),\n ('v', 111),\n ('w', 112),\n ('x', 113),\n ('y', 114),\n ('z', 115),\n ('{', 116),\n ('|', 117),\n ('}', 118),\n ('~', 119),\n ('\\x7f', 120),\n ('\\x80', 121),\n ('\\x81', 122),\n ('\\x82', 123),\n ('\\x83', 124),\n ('\\x84', 125),\n ('\\x86', 126),\n ('\\x87', 127),\n ('\\x88', 128),\n ('\\x89', 129),\n ('\\x8a', 130),\n ('\\x8b', 131),\n ('\\x8c', 132),\n ('\\x8d', 133),\n ('\\x8e', 134),\n ('\\x8f', 135),\n ('\\x90', 136),\n ('\\x91', 137),\n ('\\x92', 138),\n ('\\x93', 139),\n ('\\x94', 140),\n ('\\x95', 141),\n ('\\x96', 142),\n ('\\x97', 143),\n ('\\x98', 144),\n ('\\x99', 145),\n ('\\x9a', 146),\n ('\\x9b', 147),\n ('\\x9c', 148),\n ('\\x9d', 149),\n ('\\x9e', 150),\n ('\\x9f', 151),\n ('¡', 152),\n ('¢', 153),\n ('£', 154),\n ('¤', 155),\n ('¥', 156),\n ('¦', 157),\n ('§', 158),\n ('¨', 159),\n ('©', 160),\n ('ª', 161),\n ('«', 162),\n ('¬', 163),\n ('\\xad', 164),\n ('®', 165),\n ('¯', 166),\n ('°', 167),\n ('±', 168),\n ('²', 169),\n ('³', 170),\n ('´', 171),\n ('µ', 172),\n ('¶', 173),\n ('·', 174),\n ('¸', 175),\n ('¹', 176),\n ('º', 177),\n ('»', 178),\n ('¼', 179),\n ('½', 180),\n ('¾', 181),\n ('¿', 182),\n ('À', 183),\n ('Á', 184),\n ('Â', 185),\n ('Ã', 186),\n ('Ä', 187),\n ('Å', 188),\n ('Æ', 189),\n ('Ç', 190),\n ('È', 191),\n ('É', 192),\n ('Ê', 193),\n ('Ë', 194),\n ('Ì', 195),\n ('Í', 196),\n ('Î', 197),\n ('Ï', 198),\n ('Ð', 199),\n ('Ñ', 200),\n ('Ò', 201),\n ('Ó', 202),\n ('Ô', 203),\n ('Õ', 204),\n ('Ö', 205),\n ('×', 206),\n ('Ø', 207),\n ('Ù', 208),\n ('Ú', 209),\n ('Û', 210),\n ('Ü', 211),\n ('Ý', 212),\n ('Þ', 213),\n ('ß', 214),\n ('à', 215),\n ('á', 216),\n ('â', 217),\n ('ã', 218),\n ('ä', 219),\n ('å', 220),\n ('æ', 221),\n ('ç', 222),\n ('è', 223),\n ('é', 224),\n ('ê', 225),\n ('ë', 226),\n ('ì', 227),\n ('í', 228),\n ('î', 229),\n ('ï', 230),\n ('ð', 231),\n ('ñ', 232),\n ('ò', 233),\n ('ó', 234),\n ('ô', 235),\n ('õ', 236),\n ('ö', 237),\n ('÷', 238),\n ('ø', 239),\n ('ù', 240),\n ('ú', 241),\n ('û', 242),\n ('ü', 243),\n ('ý', 244),\n ('þ', 245),\n ('ÿ', 246),\n ('th', 247),\n ('in', 248),\n ('an', 249),\n ('er', 250),\n ('the', 251),\n ('on', 252),\n ('ou', 253),\n ('at', 254),\n ('re', 255),\n ('to', 256),\n ('ing', 257),\n ('en', 258),\n ('st', 259),\n ('al', 260),\n ('or', 261),\n ('and', 262),\n ('is', 263),\n ('it', 264),\n ('..', 265),\n ('me', 266),\n ('ed', 267),\n ('as', 268),\n ('ar', 269),\n ('le', 270),\n ('of', 271),\n ('he', 272),\n ('be', 273),\n ('se', 274),\n ('ay', 275),\n ('ve', 276),\n ('ly', 277),\n ('ow', 278),\n ('ha', 279),\n ('ll', 280),\n ('es', 281),\n ('ic', 282),\n ('that', 283),\n ('wh', 284),\n ('so', 285),\n ('ot', 286),\n ('ch', 287),\n ('you', 288),\n ('li', 289),\n ('my', 290),\n ('ut', 291),\n ('for', 292),\n ('gh', 293),\n ('om', 294),\n ('wi', 295),\n ('id', 296),\n ('ac', 297),\n ('we', 298),\n ('ver', 299),\n ('ad', 300),\n ('ke', 301),\n ('oo', 302),\n ('ent', 303),\n ('was', 304),\n ('ld', 305),\n ('ere', 306),\n ('out', 307),\n ('ur', 308),\n ('ion', 309),\n ('ge', 310),\n ('...', 311),\n ('un', 312),\n ('ri', 313),\n ('all', 314),\n ('ab', 315),\n ('am', 316),\n ('one', 317),\n ('sp', 318),\n ('ne', 319),\n ('ir', 320),\n ('with', 321),\n ('ght', 322),\n ('lo', 323),\n ('are', 324),\n ('ro', 325),\n ('ink', 326),\n ('ti', 327),\n ('have', 328),\n ('mo', 329),\n ('up', 330),\n ('sh', 331),\n ('fe', 332),\n ('but', 333),\n ('do', 334),\n ('day', 335),\n ('go', 336),\n ('now', 337),\n ('this', 338),\n ('ust', 339),\n ('thing', 340),\n ('not', 341),\n ('ally', 342),\n ('ter', 343),\n ('ould', 344),\n ('ce', 345),\n ('op', 346),\n ('us', 347),\n ('ther', 348),\n ('im', 349),\n ('some', 350),\n ('de', 351),\n ('nd', 352),\n ('ant', 353),\n ('end', 354),\n ('The', 355),\n ('like', 356),\n ('wor', 357),\n ('pe', 358),\n ('get', 359),\n ('if', 360),\n ('ra', 361),\n ('la', 362),\n ('our', 363),\n ('just', 364),\n ('co', 365),\n ('ma', 366),\n ('way', 367),\n ('su', 368),\n ('po', 369),\n ('te', 370),\n ('ate', 371),\n ('fr', 372),\n ('Th', 373),\n ('can', 374),\n ('ca', 375),\n ('no', 376),\n ('art', 377),\n ('any', 378),\n ('nb', 379),\n ('time', 380),\n ('nbsp', 381),\n ('about', 382),\n ('con', 383),\n ('ry', 384),\n ('!!', 385),\n ('ss', 386),\n ('ack', 387),\n ('com', 388),\n ('il', 389),\n ('very', 390),\n ('pl', 391),\n ('el', 392),\n ('ind', 393),\n ('ers', 394),\n ('ex', 395),\n ('they', 396),\n ('ood', 397),\n ('ta', 398),\n ('know', 399),\n ('ye', 400),\n ('king', 401),\n ('had', 402),\n ('from', 403),\n ('her', 404),\n ('ation', 405),\n ('ill', 406),\n ('ag', 407),\n ('ight', 408),\n ('what', 409),\n ('ul', 410),\n ('sa', 411),\n ('ct', 412),\n ('use', 413),\n ('--', 414),\n ('pp', 415),\n ('url', 416),\n ('It', 417),\n ('ie', 418),\n ('Link', 419),\n ('will', 420),\n ('urlLink', 421),\n ('ck', 422),\n ('don', 423),\n ('there', 424),\n ('who', 425),\n ('think', 426),\n ('qu', 427),\n ('she', 428),\n ('ong', 429),\n ('....', 430),\n ('ard', 431),\n ('see', 432),\n ('by', 433),\n ('ho', 434),\n ('um', 435),\n ('ig', 436),\n ('ound', 437),\n ('ough', 438),\n ('ven', 439),\n ('other', 440),\n ('when', 441),\n ('his', 442),\n ('would', 443),\n ('more', 444),\n ('bo', 445),\n ('ite', 446),\n ('pre', 447),\n ('pro', 448),\n ('really', 449),\n ('your', 450),\n ('got', 451),\n ('own', 452),\n ('did', 453),\n ('We', 454),\n ('ess', 455),\n ('act', 456),\n ('ook', 457),\n ('want', 458),\n ('ople', 459),\n ('ep', 460),\n ('gu', 461),\n ('cause', 462),\n ('has', 463),\n ('ast', 464),\n ('nt', 465),\n ('fo', 466),\n ('ment', 467),\n ('et', 468),\n ('ice', 469),\n ('too', 470),\n ('Wh', 471),\n ('then', 472),\n ('ain', 473),\n ('him', 474),\n ('good', 475),\n ('how', 476),\n ('them', 477),\n ('people', 478),\n ('back', 479),\n ('per', 480),\n ('ive', 481),\n ('So', 482),\n ('ide', 483),\n ('ine', 484),\n ('been', 485),\n ('ure', 486),\n ('na', 487),\n ('say', 488),\n ('were', 489),\n ('ous', 490),\n ('off', 491),\n ('gr', 492),\n ('ick', 493),\n ('itt', 494),\n ('ist', 495),\n ('work', 496),\n ('going', 497),\n ('every', 498),\n ('int', 499)]"
     },
     "execution_count": 11,
     "metadata": {},
     "output_type": "execute_result"
    }
   ],
   "source": [
    "sorted(tokenizer.get_vocab().items(), key=lambda x: x[1])"
   ],
   "metadata": {
    "collapsed": false,
    "ExecuteTime": {
     "end_time": "2023-07-03T10:32:42.577216113Z",
     "start_time": "2023-07-03T10:32:42.225658780Z"
    }
   }
  },
  {
   "cell_type": "code",
   "execution_count": 12,
   "outputs": [
    {
     "name": "stdout",
     "output_type": "stream",
     "text": [
      "Yeah, sorry for not writing for a whole there, but I've had a pretty busy weekend so far. I found out I have about 20 tests on Tuesday because my teachers are evil...but oh well. We had marching yesterday. It was cool. We stayed inside the whole time, and I got to play second part, so the music part will be really easy. I left early from marching at around 5:00, then went out to dinner with my friends (I made the plans before I knew about marching). So, dinner was fun. It was Kelly's birthday, so it was cool. Then we went to Kel's for a sleepover, and did bunches of neat stuff, and I went to sleep earlier than usual for a sleepover since I had to be at a Bar Mitzvah this morning. It was pretty neat. I have to do this project for CR, and we have to go to two different places of worship than our own. So, one is obviously a Jewish synagogue, and I think I'm going to go to a mosque for my other one, but who knows...so, this has been my only chance to write, and I actually have to go now, so I'll write more later...maybe.  *Ya di amore*\n"
     ]
    }
   ],
   "source": [
    "print(dataset['train']['text'][0])"
   ],
   "metadata": {
    "collapsed": false,
    "ExecuteTime": {
     "end_time": "2023-07-03T10:32:43.233185310Z",
     "start_time": "2023-07-03T10:32:42.575386775Z"
    }
   }
  },
  {
   "cell_type": "code",
   "execution_count": 16,
   "outputs": [],
   "source": [
    "import tiktoken\n",
    "enc = tiktoken.get_encoding(\"gpt2\")"
   ],
   "metadata": {
    "collapsed": false,
    "ExecuteTime": {
     "end_time": "2023-07-03T10:33:58.691311319Z",
     "start_time": "2023-07-03T10:33:54.459830704Z"
    }
   }
  },
  {
   "cell_type": "code",
   "execution_count": 19,
   "outputs": [
    {
     "name": "stdout",
     "output_type": "stream",
     "text": [
      "<Encoding 'gpt2'>\n"
     ]
    }
   ],
   "source": [],
   "metadata": {
    "collapsed": false,
    "ExecuteTime": {
     "end_time": "2023-07-03T10:34:32.359608017Z",
     "start_time": "2023-07-03T10:34:32.355731261Z"
    }
   }
  },
  {
   "cell_type": "code",
   "execution_count": null,
   "outputs": [],
   "source": [],
   "metadata": {
    "collapsed": false
   }
  },
  {
   "cell_type": "code",
   "execution_count": null,
   "outputs": [],
   "source": [],
   "metadata": {
    "collapsed": false
   }
  }
 ],
 "metadata": {
  "kernelspec": {
   "display_name": "Python 3",
   "language": "python",
   "name": "python3"
  },
  "language_info": {
   "codemirror_mode": {
    "name": "ipython",
    "version": 2
   },
   "file_extension": ".py",
   "mimetype": "text/x-python",
   "name": "python",
   "nbconvert_exporter": "python",
   "pygments_lexer": "ipython2",
   "version": "2.7.6"
  }
 },
 "nbformat": 4,
 "nbformat_minor": 0
}
