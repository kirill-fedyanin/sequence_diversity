{
 "cells": [
  {
   "cell_type": "code",
   "execution_count": 2,
   "metadata": {
    "collapsed": true,
    "ExecuteTime": {
     "end_time": "2023-05-29T06:40:55.539156422Z",
     "start_time": "2023-05-29T06:40:55.538107316Z"
    }
   },
   "outputs": [],
   "source": [
    "import torch\n",
    "import torch.nn.functional as F\n",
    "import numpy as np\n",
    "\n",
    "from sentence_transformers import SentenceTransformer, util"
   ]
  },
  {
   "cell_type": "code",
   "execution_count": 3,
   "outputs": [],
   "source": [
    "model = SentenceTransformer('all-MiniLM-L6-v2')"
   ],
   "metadata": {
    "collapsed": false,
    "ExecuteTime": {
     "end_time": "2023-05-29T06:40:58.198827613Z",
     "start_time": "2023-05-29T06:40:57.683541768Z"
    }
   }
  },
  {
   "cell_type": "code",
   "execution_count": 7,
   "outputs": [],
   "source": [
    "sentences = [\n",
    "    \"I like to drink\",\n",
    "    \"I like carrots\",\n",
    "    \"Alcohol is my religion\",\n",
    "    \"Orange vegetable is nice\"\n",
    "]\n",
    "\n",
    "sentence_embeddings = model.encode(sentences)"
   ],
   "metadata": {
    "collapsed": false,
    "ExecuteTime": {
     "end_time": "2023-05-29T06:41:22.874878526Z",
     "start_time": "2023-05-29T06:41:22.874035633Z"
    }
   }
  },
  {
   "cell_type": "code",
   "execution_count": 8,
   "outputs": [
    {
     "name": "stdout",
     "output_type": "stream",
     "text": [
      "[[0.9999998  0.42268568 0.51407355 0.22350837]\n",
      " [0.42268568 1.         0.17140064 0.5826256 ]\n",
      " [0.51407355 0.17140064 0.99999994 0.12629852]\n",
      " [0.22350837 0.5826256  0.12629852 1.        ]]\n"
     ]
    },
    {
     "data": {
      "text/plain": "<matplotlib.colorbar.Colorbar at 0x7ff98c5fdd60>"
     },
     "execution_count": 8,
     "metadata": {},
     "output_type": "execute_result"
    },
    {
     "data": {
      "text/plain": "<Figure size 640x480 with 2 Axes>",
      "image/png": "[encoded data removed]"
     },
     "metadata": {},
     "output_type": "display_data"
    }
   ],
   "source": [
    "from matplotlib import pyplot as plt\n",
    "\n",
    "cosine_dists = sentence_embeddings @ sentence_embeddings.T\n",
    "print(cosine_dists)\n",
    "plt.imshow(cosine_dists)\n",
    "plt.colorbar()"
   ],
   "metadata": {
    "collapsed": false,
    "ExecuteTime": {
     "end_time": "2023-05-29T06:41:24.719215505Z",
     "start_time": "2023-05-29T06:41:24.157580370Z"
    }
   }
  },
  {
   "cell_type": "code",
   "execution_count": 11,
   "outputs": [
    {
     "data": {
      "text/plain": "tensor([[1.0000, 0.4227, 0.5141, 0.2235],\n        [0.4227, 1.0000, 0.1714, 0.5826],\n        [0.5141, 0.1714, 1.0000, 0.1263],\n        [0.2235, 0.5826, 0.1263, 1.0000]])"
     },
     "execution_count": 11,
     "metadata": {},
     "output_type": "execute_result"
    }
   ],
   "source": [
    "util.cos_sim(sentence_embeddings, sentence_embeddings)"
   ],
   "metadata": {
    "collapsed": false,
    "ExecuteTime": {
     "end_time": "2023-05-29T07:10:03.935744740Z",
     "start_time": "2023-05-29T07:10:03.934672383Z"
    }
   }
  }
 ],
 "metadata": {
  "kernelspec": {
   "display_name": "Python 3",
   "language": "python",
   "name": "python3"
  },
  "language_info": {
   "codemirror_mode": {
    "name": "ipython",
    "version": 2
   },
   "file_extension": ".py",
   "mimetype": "text/x-python",
   "name": "python",
   "nbconvert_exporter": "python",
   "pygments_lexer": "ipython2",
   "version": "2.7.6"
  }
 },
 "nbformat": 4,
 "nbformat_minor": 0
}
