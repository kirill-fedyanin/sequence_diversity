{
 "cells": [
  {
   "cell_type": "code",
   "execution_count": 1,
   "metadata": {
    "collapsed": true
   },
   "outputs": [],
   "source": [
    "import torch\n",
    "import os\n",
    "import json"
   ]
  },
  {
   "cell_type": "code",
   "execution_count": 2,
   "outputs": [
    {
     "name": "stdout",
     "output_type": "stream",
     "text": [
      "2.0.0+cu117\n",
      "True\n"
     ]
    }
   ],
   "source": [
    "print(torch.__version__)\n",
    "print(torch.cuda.is_available())"
   ],
   "metadata": {
    "collapsed": false,
    "ExecuteTime": {
     "end_time": "2023-06-02T10:14:23.979450426Z",
     "start_time": "2023-06-02T10:14:23.966574931Z"
    }
   }
  },
  {
   "cell_type": "code",
   "execution_count": 3,
   "outputs": [
    {
     "name": "stdout",
     "output_type": "stream",
     "text": [
      "['logs', 'question_db_2.json', 'question_db.json', 'question_db_3.json', 'qa']\n"
     ]
    },
    {
     "data": {
      "text/plain": "13108"
     },
     "execution_count": 3,
     "metadata": {},
     "output_type": "execute_result"
    }
   ],
   "source": [
    "# load some questions\n",
    "print(os.listdir(\"../data\"))\n",
    "\n",
    "with open('../data/question_db_3.json', 'r') as f:\n",
    "    questions = json.load(f)\n",
    "len(questions)"
   ],
   "metadata": {
    "collapsed": false,
    "ExecuteTime": {
     "end_time": "2023-06-02T10:14:24.107345421Z",
     "start_time": "2023-06-02T10:14:23.985604719Z"
    }
   }
  },
  {
   "cell_type": "code",
   "execution_count": 4,
   "outputs": [],
   "source": [
    "from transformers import AutoModelForSeq2SeqLM, AutoTokenizer\n",
    "\n",
    "from transformers.models.t5.modeling_t5 import T5ForConditionalGeneration\n",
    "\n",
    "# t5_qa_model = AutoModelForSeq2SeqLM.from_pretrained(\"google/t5-xxl-ssm-tqa\")\n",
    "t5_qa_model = T5ForConditionalGeneration.from_pretrained(\"google/t5-xxl-ssm-tqa\")\n",
    "t5_tok = AutoTokenizer.from_pretrained(\"google/t5-xxl-ssm-tqa\")\n"
   ],
   "metadata": {
    "collapsed": false,
    "ExecuteTime": {
     "end_time": "2023-06-02T10:16:42.288154772Z",
     "start_time": "2023-06-02T10:14:25.788693108Z"
    }
   }
  },
  {
   "cell_type": "code",
   "execution_count": 5,
   "outputs": [
    {
     "data": {
      "text/plain": "T5ForConditionalGeneration(\n  (shared): Embedding(32128, 4096)\n  (encoder): T5Stack(\n    (embed_tokens): Embedding(32128, 4096)\n    (block): ModuleList(\n      (0): T5Block(\n        (layer): ModuleList(\n          (0): T5LayerSelfAttention(\n            (SelfAttention): T5Attention(\n              (q): Linear(in_features=4096, out_features=4096, bias=False)\n              (k): Linear(in_features=4096, out_features=4096, bias=False)\n              (v): Linear(in_features=4096, out_features=4096, bias=False)\n              (o): Linear(in_features=4096, out_features=4096, bias=False)\n              (relative_attention_bias): Embedding(32, 64)\n            )\n            (layer_norm): T5LayerNorm()\n            (dropout): Dropout(p=0.1, inplace=False)\n          )\n          (1): T5LayerFF(\n            (DenseReluDense): T5DenseGatedActDense(\n              (wi_0): Linear(in_features=4096, out_features=10240, bias=False)\n              (wi_1): Linear(in_features=4096, out_features=10240, bias=False)\n              (wo): Linear(in_features=10240, out_features=4096, bias=False)\n              (dropout): Dropout(p=0.1, inplace=False)\n              (act): NewGELUActivation()\n            )\n            (layer_norm): T5LayerNorm()\n            (dropout): Dropout(p=0.1, inplace=False)\n          )\n        )\n      )\n      (1-23): 23 x T5Block(\n        (layer): ModuleList(\n          (0): T5LayerSelfAttention(\n            (SelfAttention): T5Attention(\n              (q): Linear(in_features=4096, out_features=4096, bias=False)\n              (k): Linear(in_features=4096, out_features=4096, bias=False)\n              (v): Linear(in_features=4096, out_features=4096, bias=False)\n              (o): Linear(in_features=4096, out_features=4096, bias=False)\n            )\n            (layer_norm): T5LayerNorm()\n            (dropout): Dropout(p=0.1, inplace=False)\n          )\n          (1): T5LayerFF(\n            (DenseReluDense): T5DenseGatedActDense(\n              (wi_0): Linear(in_features=4096, out_features=10240, bias=False)\n              (wi_1): Linear(in_features=4096, out_features=10240, bias=False)\n              (wo): Linear(in_features=10240, out_features=4096, bias=False)\n              (dropout): Dropout(p=0.1, inplace=False)\n              (act): NewGELUActivation()\n            )\n            (layer_norm): T5LayerNorm()\n            (dropout): Dropout(p=0.1, inplace=False)\n          )\n        )\n      )\n    )\n    (final_layer_norm): T5LayerNorm()\n    (dropout): Dropout(p=0.1, inplace=False)\n  )\n  (decoder): T5Stack(\n    (embed_tokens): Embedding(32128, 4096)\n    (block): ModuleList(\n      (0): T5Block(\n        (layer): ModuleList(\n          (0): T5LayerSelfAttention(\n            (SelfAttention): T5Attention(\n              (q): Linear(in_features=4096, out_features=4096, bias=False)\n              (k): Linear(in_features=4096, out_features=4096, bias=False)\n              (v): Linear(in_features=4096, out_features=4096, bias=False)\n              (o): Linear(in_features=4096, out_features=4096, bias=False)\n              (relative_attention_bias): Embedding(32, 64)\n            )\n            (layer_norm): T5LayerNorm()\n            (dropout): Dropout(p=0.1, inplace=False)\n          )\n          (1): T5LayerCrossAttention(\n            (EncDecAttention): T5Attention(\n              (q): Linear(in_features=4096, out_features=4096, bias=False)\n              (k): Linear(in_features=4096, out_features=4096, bias=False)\n              (v): Linear(in_features=4096, out_features=4096, bias=False)\n              (o): Linear(in_features=4096, out_features=4096, bias=False)\n            )\n            (layer_norm): T5LayerNorm()\n            (dropout): Dropout(p=0.1, inplace=False)\n          )\n          (2): T5LayerFF(\n            (DenseReluDense): T5DenseGatedActDense(\n              (wi_0): Linear(in_features=4096, out_features=10240, bias=False)\n              (wi_1): Linear(in_features=4096, out_features=10240, bias=False)\n              (wo): Linear(in_features=10240, out_features=4096, bias=False)\n              (dropout): Dropout(p=0.1, inplace=False)\n              (act): NewGELUActivation()\n            )\n            (layer_norm): T5LayerNorm()\n            (dropout): Dropout(p=0.1, inplace=False)\n          )\n        )\n      )\n      (1-23): 23 x T5Block(\n        (layer): ModuleList(\n          (0): T5LayerSelfAttention(\n            (SelfAttention): T5Attention(\n              (q): Linear(in_features=4096, out_features=4096, bias=False)\n              (k): Linear(in_features=4096, out_features=4096, bias=False)\n              (v): Linear(in_features=4096, out_features=4096, bias=False)\n              (o): Linear(in_features=4096, out_features=4096, bias=False)\n            )\n            (layer_norm): T5LayerNorm()\n            (dropout): Dropout(p=0.1, inplace=False)\n          )\n          (1): T5LayerCrossAttention(\n            (EncDecAttention): T5Attention(\n              (q): Linear(in_features=4096, out_features=4096, bias=False)\n              (k): Linear(in_features=4096, out_features=4096, bias=False)\n              (v): Linear(in_features=4096, out_features=4096, bias=False)\n              (o): Linear(in_features=4096, out_features=4096, bias=False)\n            )\n            (layer_norm): T5LayerNorm()\n            (dropout): Dropout(p=0.1, inplace=False)\n          )\n          (2): T5LayerFF(\n            (DenseReluDense): T5DenseGatedActDense(\n              (wi_0): Linear(in_features=4096, out_features=10240, bias=False)\n              (wi_1): Linear(in_features=4096, out_features=10240, bias=False)\n              (wo): Linear(in_features=10240, out_features=4096, bias=False)\n              (dropout): Dropout(p=0.1, inplace=False)\n              (act): NewGELUActivation()\n            )\n            (layer_norm): T5LayerNorm()\n            (dropout): Dropout(p=0.1, inplace=False)\n          )\n        )\n      )\n    )\n    (final_layer_norm): T5LayerNorm()\n    (dropout): Dropout(p=0.1, inplace=False)\n  )\n  (lm_head): Linear(in_features=4096, out_features=32128, bias=False)\n)"
     },
     "execution_count": 5,
     "metadata": {},
     "output_type": "execute_result"
    }
   ],
   "source": [
    "t5_qa_model.cuda()"
   ],
   "metadata": {
    "collapsed": false,
    "ExecuteTime": {
     "end_time": "2023-06-02T10:16:50.017900138Z",
     "start_time": "2023-06-02T10:16:42.290217209Z"
    }
   }
  },
  {
   "cell_type": "code",
   "execution_count": 6,
   "outputs": [
    {
     "name": "stdout",
     "output_type": "stream",
     "text": [
      "<class 'transformers.models.t5.modeling_t5.T5ForConditionalGeneration'>\n"
     ]
    }
   ],
   "source": [
    "print(type(t5_qa_model))"
   ],
   "metadata": {
    "collapsed": false,
    "ExecuteTime": {
     "end_time": "2023-06-02T10:16:50.167836349Z",
     "start_time": "2023-06-02T10:16:50.016909460Z"
    }
   }
  },
  {
   "cell_type": "code",
   "execution_count": 7,
   "outputs": [],
   "source": [
    "def get_answer(question_text):\n",
    "    input_ids = t5_tok(question_text, return_tensors=\"pt\").input_ids.cuda()\n",
    "    with torch.no_grad():\n",
    "        gen_output = t5_qa_model.generate(input_ids, do_sample=True)[0]\n",
    "    return t5_tok.decode(gen_output, skip_special_tokens=True)\n",
    "\n",
    "# input_ids = t5_tok(\"When was Franklin D. Roosevelt born?\", return_tensors=\"pt\").input_ids\n",
    "# gen_output = t5_qa_model.generate(input_ids)[0]\n",
    "# print(t5_tok.decode(gen_output, skip_special_tokens=True))\n",
    "# get_answer('When was Fralin D. Roosevelt born?')\n",
    "# get_answer(\"When was Franklin D. Roosevelt born?\")"
   ],
   "metadata": {
    "collapsed": false,
    "ExecuteTime": {
     "end_time": "2023-06-02T10:16:50.167946319Z",
     "start_time": "2023-06-02T10:16:50.167566581Z"
    }
   }
  },
  {
   "cell_type": "code",
   "execution_count": 8,
   "outputs": [
    {
     "name": "stdout",
     "output_type": "stream",
     "text": [
      "Name A Number That’s Associated With Being Lucky Or Unlucky\n",
      "13\n",
      "\n",
      "Name The Most Used Piece Of Furniture In A House.\n",
      "Chair\n",
      "\n",
      "Name A Job In Which An Attractive Person Probably Makes Better Tips.\n",
      "Cab Driver\n",
      "\n",
      "Name A Prop used By Tap Dancers\n",
      "Tap Shoes\n",
      "\n",
      "If You Drew Homer Simpson’s Name In A Secret Santa Exchange, What Would You Buy Him?\n",
      "A Bargain Basement\n",
      "\n"
     ]
    }
   ],
   "source": [
    "for q in questions[:5]:\n",
    "    print(q['question'])\n",
    "    print(get_answer(q['question']))\n",
    "    print()\n"
   ],
   "metadata": {
    "collapsed": false,
    "ExecuteTime": {
     "end_time": "2023-06-02T10:16:51.415926123Z",
     "start_time": "2023-06-02T10:16:50.167794881Z"
    }
   }
  },
  {
   "cell_type": "code",
   "execution_count": 9,
   "outputs": [
    {
     "name": "stdout",
     "output_type": "stream",
     "text": [
      "Name A Job In Which An Attractive Person Probably Makes Better Tips.\n",
      "Waitress\n",
      "Waitress\n",
      "Cab Driver\n",
      "Cab Driver\n",
      "Cabdriver\n",
      "Waitress\n",
      "Cab Driver\n",
      "Waitress\n",
      "Cab Driver\n",
      "Waitress\n",
      "Waitress\n",
      "Cab Driver\n",
      "Cab Driver\n",
      "Cab Driver\n",
      "Cab Driver\n",
      "Cab Driver\n",
      "Cab Driver\n",
      "Cab Driver\n",
      "Waitress\n",
      "Server\n",
      "Cab Driver\n",
      "Waitress\n",
      "Cab Driver, Waitress, Bartender, Nurse, Hairdresser, Makeup Artist\n",
      "Cab Driver\n",
      "Cab Driver\n",
      "Cab Driver\n",
      "Waitress\n",
      "Cab Driver\n",
      "Waitress\n",
      "Cab Driver\n",
      "Cab Driver\n",
      "Cab Driver\n",
      "Waitress\n",
      "Cab Driver\n",
      "Cab Driver\n",
      "Cabdriver\n",
      "Cab Driver\n",
      "Waitress\n",
      "Waitress\n",
      "Tipsy Cab Driver\n",
      "Cab Driver\n",
      "Waitress\n",
      "Cab Driver\n",
      "Cab Driver\n",
      "Waitress\n",
      "Waitress\n",
      "Waitress\n",
      "Cab Driver\n",
      "Bartender\n",
      "Cab Driver\n"
     ]
    }
   ],
   "source": [
    "question_text =  questions[2]['question']\n",
    "print(question_text)\n",
    "for _ in range(50):\n",
    "    print(get_answer(question_text))\n",
    "\n"
   ],
   "metadata": {
    "collapsed": false,
    "ExecuteTime": {
     "end_time": "2023-06-02T10:16:58.089011737Z",
     "start_time": "2023-06-02T10:16:51.415198337Z"
    }
   }
  }
 ],
 "metadata": {
  "kernelspec": {
   "display_name": "Python 3",
   "language": "python",
   "name": "python3"
  },
  "language_info": {
   "codemirror_mode": {
    "name": "ipython",
    "version": 2
   },
   "file_extension": ".py",
   "mimetype": "text/x-python",
   "name": "python",
   "nbconvert_exporter": "python",
   "pygments_lexer": "ipython2",
   "version": "2.7.6"
  }
 },
 "nbformat": 4,
 "nbformat_minor": 0
}
