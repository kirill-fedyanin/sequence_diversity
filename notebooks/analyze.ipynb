{
 "cells": [
  {
   "cell_type": "code",
   "execution_count": 1,
   "metadata": {
    "collapsed": true,
    "ExecuteTime": {
     "end_time": "2023-05-29T06:30:11.119034258Z",
     "start_time": "2023-05-29T06:30:10.550617123Z"
    }
   },
   "outputs": [
    {
     "ename": "ModuleNotFoundError",
     "evalue": "No module named 'Levenshtein'",
     "output_type": "error",
     "traceback": [
      "\u001B[0;31m---------------------------------------------------------------------------\u001B[0m",
      "\u001B[0;31mModuleNotFoundError\u001B[0m                       Traceback (most recent call last)",
      "Cell \u001B[0;32mIn[1], line 7\u001B[0m\n\u001B[1;32m      3\u001B[0m \u001B[38;5;28;01mimport\u001B[39;00m \u001B[38;5;21;01mmatplotlib\u001B[39;00m\u001B[38;5;21;01m.\u001B[39;00m\u001B[38;5;21;01mpyplot\u001B[39;00m \u001B[38;5;28;01mas\u001B[39;00m \u001B[38;5;21;01mplt\u001B[39;00m\n\u001B[1;32m      6\u001B[0m \u001B[38;5;28;01mimport\u001B[39;00m \u001B[38;5;21;01mnumpy\u001B[39;00m \u001B[38;5;28;01mas\u001B[39;00m \u001B[38;5;21;01mnp\u001B[39;00m\n\u001B[0;32m----> 7\u001B[0m \u001B[38;5;28;01mfrom\u001B[39;00m \u001B[38;5;21;01mLevenshtein\u001B[39;00m \u001B[38;5;28;01mimport\u001B[39;00m distance\n\u001B[1;32m      8\u001B[0m \u001B[38;5;28;01mfrom\u001B[39;00m \u001B[38;5;21;01mtqdm\u001B[39;00m\u001B[38;5;21;01m.\u001B[39;00m\u001B[38;5;21;01mnotebook\u001B[39;00m \u001B[38;5;28;01mimport\u001B[39;00m tqdm\n",
      "\u001B[0;31mModuleNotFoundError\u001B[0m: No module named 'Levenshtein'"
     ]
    }
   ],
   "source": [
    "import os\n",
    "import json\n",
    "import matplotlib.pyplot as plt\n",
    "\n",
    "\n",
    "import numpy as np\n",
    "from Levenshtein import distance\n",
    "from tqdm.notebook import tqdm\n"
   ]
  },
  {
   "cell_type": "code",
   "execution_count": null,
   "outputs": [],
   "source": [
    "with open('data/question_db.json', 'r') as f:\n",
    "    questions = json.load(f)"
   ],
   "metadata": {
    "collapsed": false
   }
  },
  {
   "cell_type": "code",
   "execution_count": null,
   "outputs": [],
   "source": [
    "\"\"\"\n",
    "How much questions?\n",
    "14300\n",
    "\n",
    "How much duplicated?\n",
    "It left 13814 after levenshtein dedup, so it was approximately 476 repeated questions\n",
    "\n",
    "How much are scored\n",
    "4020 in dedup\n",
    "\n",
    "4.97 answers per question\n",
    "\"\"\""
   ],
   "metadata": {
    "collapsed": false
   }
  },
  {
   "cell_type": "code",
   "execution_count": null,
   "outputs": [],
   "source": [
    "print(len(questions))"
   ],
   "metadata": {
    "collapsed": false
   }
  },
  {
   "cell_type": "code",
   "execution_count": null,
   "outputs": [],
   "source": [
    "lowers = [q['question'].lower() for q in questions]\n",
    "len(set(lowers))"
   ],
   "metadata": {
    "collapsed": false
   }
  },
  {
   "cell_type": "code",
   "execution_count": null,
   "outputs": [],
   "source": [],
   "metadata": {
    "collapsed": false
   }
  },
  {
   "cell_type": "code",
   "execution_count": null,
   "outputs": [],
   "source": [
    "# distance(lowers[0], lowers[1])\n",
    "\n",
    "restrict = len(lowers)\n",
    "\n",
    "idx1, idx2 = np.triu_indices(restrict)\n",
    "\n",
    "dists = np.zeros((restrict, restrict))\n",
    "\n",
    "similars = []\n",
    "\n",
    "for i, j in tqdm(zip(idx1, idx2), total=restrict):\n",
    "    if i != j:\n",
    "        d = distance(lowers[i], lowers[j])\n",
    "        dists[i, j] = d\n",
    "        if d <= 2:\n",
    "            similars.append((i, j, d))\n",
    "\n"
   ],
   "metadata": {
    "collapsed": false
   }
  },
  {
   "cell_type": "code",
   "execution_count": null,
   "outputs": [],
   "source": [
    "print(len(similars))\n",
    "for i, j, d in similars:\n",
    "    print('*****')\n",
    "    print(d)\n",
    "    print(lowers[i])\n",
    "    print(lowers[j])\n",
    "    print()"
   ],
   "metadata": {
    "collapsed": false
   }
  },
  {
   "cell_type": "code",
   "execution_count": null,
   "outputs": [],
   "source": [
    "print(len(similars))\n",
    "for i, j, d in similars:\n",
    "    if d == 3:\n",
    "        print('*****')\n",
    "        print(lowers[i])\n",
    "        print(lowers[j])\n",
    "        print()\n",
    "\n"
   ],
   "metadata": {
    "collapsed": false
   }
  },
  {
   "cell_type": "code",
   "execution_count": null,
   "outputs": [],
   "source": [
    "import matplotlib.pyplot as plt\n",
    "\n",
    "plt.imshow(dists)"
   ],
   "metadata": {
    "collapsed": false
   }
  },
  {
   "cell_type": "code",
   "execution_count": null,
   "outputs": [],
   "source": [
    "idx_to_delete = []\n",
    "\n",
    "for i, j, d in similars:\n",
    "    idx_to_delete.append(j)\n",
    "print(idx_to_delete)"
   ],
   "metadata": {
    "collapsed": false
   }
  },
  {
   "cell_type": "code",
   "execution_count": null,
   "outputs": [],
   "source": [
    "idx_to_delete = set(idx_to_delete)\n",
    "\n",
    "questions_levenstein = [q for i, q in enumerate(questions) if i not in idx_to_delete]\n",
    "\n",
    "len(questions_levenstein)"
   ],
   "metadata": {
    "collapsed": false
   }
  },
  {
   "cell_type": "code",
   "execution_count": null,
   "outputs": [],
   "source": [
    "lowers = [q['question'].lower() for q in questions_levenstein]\n",
    "len(set(lowers))\n",
    "\n",
    "\n",
    "restrict = len(lowers)\n",
    "\n",
    "idx1, idx2 = np.triu_indices(restrict)\n",
    "\n",
    "dists = np.zeros((restrict, restrict))\n",
    "\n",
    "similars = []\n",
    "\n",
    "for i, j in tqdm(zip(idx1, idx2), total=restrict):\n",
    "    if i != j:\n",
    "        d = distance(lowers[i], lowers[j])\n",
    "        dists[i, j] = d\n",
    "        if d <= 2:\n",
    "            print('wow')\n",
    "            similars.append((i, j, d))\n",
    "\n",
    "print(similars)"
   ],
   "metadata": {
    "collapsed": false
   }
  },
  {
   "cell_type": "code",
   "execution_count": null,
   "outputs": [],
   "source": [
    "# Save deduplicated\n",
    "with open('data/question_db_2.json', 'w') as f:\n",
    "    json.dump(questions_levenstein, f, indent=4)"
   ],
   "metadata": {
    "collapsed": false
   }
  },
  {
   "cell_type": "code",
   "execution_count": null,
   "outputs": [],
   "source": [
    "print(len(questions))\n",
    "#how many with scores\n",
    "pointed = [q['answers'][0]['points'] is not None for q in questions]\n"
   ],
   "metadata": {
    "collapsed": false
   }
  },
  {
   "cell_type": "code",
   "execution_count": null,
   "outputs": [],
   "source": [
    "# all_answers = []\n",
    "all_answers = [ans for q in questions for ans in q['answers']]\n",
    "print(len(all_answers))\n",
    "print(all_answers[:12])"
   ],
   "metadata": {
    "collapsed": false
   }
  },
  {
   "cell_type": "code",
   "execution_count": null,
   "outputs": [],
   "source": [
    "len(all_answers) / len(questions)\n",
    "\n",
    "lengths = [len(answer['text'].split()) for answer in all_answers]\n",
    "\n",
    "plt.hist(lengths, bins=np.arange(8))\n",
    "plt.show()"
   ],
   "metadata": {
    "collapsed": false
   }
  },
  {
   "cell_type": "code",
   "execution_count": null,
   "outputs": [],
   "source": [
    "[a['text'] for a in all_answers if len(a['text'].split()) > 3]"
   ],
   "metadata": {
    "collapsed": false
   }
  },
  {
   "cell_type": "code",
   "execution_count": null,
   "outputs": [],
   "source": [
    "questions[2020:2100]"
   ],
   "metadata": {
    "collapsed": false
   }
  },
  {
   "cell_type": "code",
   "execution_count": null,
   "outputs": [],
   "source": [],
   "metadata": {
    "collapsed": false
   }
  }
 ],
 "metadata": {
  "kernelspec": {
   "display_name": "Python 3",
   "language": "python",
   "name": "python3"
  },
  "language_info": {
   "codemirror_mode": {
    "name": "ipython",
    "version": 2
   },
   "file_extension": ".py",
   "mimetype": "text/x-python",
   "name": "python",
   "nbconvert_exporter": "python",
   "pygments_lexer": "ipython2",
   "version": "2.7.6"
  }
 },
 "nbformat": 4,
 "nbformat_minor": 0
}
