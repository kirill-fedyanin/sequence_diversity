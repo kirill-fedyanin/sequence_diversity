{
 "cells": [
  {
   "cell_type": "code",
   "execution_count": 1,
   "metadata": {
    "collapsed": true,
    "ExecuteTime": {
     "end_time": "2023-07-27T08:06:46.187101744Z",
     "start_time": "2023-07-27T08:06:46.186616978Z"
    }
   },
   "outputs": [
    {
     "data": {
      "text/plain": "'\\nHypothesis\\nThe distribution is quite diverse, following the flat power law\\n'"
     },
     "execution_count": 1,
     "metadata": {},
     "output_type": "execute_result"
    }
   ],
   "source": [
    "\"\"\"\n",
    "Hypothesis\n",
    "The distribution is quite diverse, following the flat power law\n",
    "\"\"\"\n",
    "# step 1: get distribution for a single prediction"
   ]
  },
  {
   "cell_type": "code",
   "execution_count": 2,
   "outputs": [],
   "source": [
    "from transformers import AutoTokenizer, AutoModelForCausalLM\n",
    "from transformers.models.llama.modeling_llama import LlamaForCausalLM\n",
    "from datasets import load_dataset\n",
    "import torch"
   ],
   "metadata": {
    "collapsed": false,
    "ExecuteTime": {
     "end_time": "2023-07-27T08:06:48.917888532Z",
     "start_time": "2023-07-27T08:06:46.186830968Z"
    }
   }
  },
  {
   "cell_type": "code",
   "execution_count": 3,
   "outputs": [
    {
     "name": "stderr",
     "output_type": "stream",
     "text": [
      "Found cached dataset cc_news (/app/.cache/huggingface/datasets/cc_news/plain_text/1.0.0/e3d5612f02fe5f11826a0d9614328b1772e27e5d685f4ec438e7f768e4581734)\n"
     ]
    },
    {
     "data": {
      "text/plain": "  0%|          | 0/1 [00:00<?, ?it/s]",
      "application/vnd.jupyter.widget-view+json": {
       "version_major": 2,
       "version_minor": 0,
       "model_id": "bd1c8f6a07ea4b6f80687bd182f4acac"
      }
     },
     "metadata": {},
     "output_type": "display_data"
    }
   ],
   "source": [
    "cc_news = load_dataset('cc_news')['train']\n",
    "\n",
    "from random import randint\n",
    "APPROX_LETTERS_PER_TOKEN = 7\n",
    "\n",
    "def sample_sequences(tokenizer, dataset, ctx_size, num_samples):\n",
    "    max_attempts = 10_000\n",
    "    tokens = []\n",
    "    for _ in range(num_samples):\n",
    "        for _ in range(max_attempts):\n",
    "            i = randint(0, len(dataset))\n",
    "            text = dataset[i]['text']\n",
    "            if len(text) < ctx_size * APPROX_LETTERS_PER_TOKEN:\n",
    "                continue\n",
    "            else:\n",
    "                tokenized = tokenizer(text[:ctx_size*APPROX_LETTERS_PER_TOKEN], return_tensors='pt').input_ids\n",
    "                tokens.append(tokenized[0, :ctx_size])\n",
    "                break\n",
    "    return tokens\n",
    "\n"
   ],
   "metadata": {
    "collapsed": false,
    "ExecuteTime": {
     "end_time": "2023-07-27T08:06:53.661625203Z",
     "start_time": "2023-07-27T08:06:48.917758860Z"
    }
   }
  },
  {
   "cell_type": "code",
   "execution_count": 4,
   "outputs": [
    {
     "data": {
      "text/plain": "Loading checkpoint shards:   0%|          | 0/2 [00:00<?, ?it/s]",
      "application/vnd.jupyter.widget-view+json": {
       "version_major": 2,
       "version_minor": 0,
       "model_id": "f4aba49c377d4be1a79019ed054080f1"
      }
     },
     "metadata": {},
     "output_type": "display_data"
    }
   ],
   "source": [
    "tokenizer = AutoTokenizer.from_pretrained(\"NousResearch/Llama-2-7b-hf\")\n",
    "model = AutoModelForCausalLM.from_pretrained(\"NousResearch/Llama-2-7b-hf\")\n",
    "model = model.cuda()\n"
   ],
   "metadata": {
    "collapsed": false,
    "ExecuteTime": {
     "end_time": "2023-07-27T08:08:00.901573063Z",
     "start_time": "2023-07-27T08:06:53.661462876Z"
    }
   }
  },
  {
   "cell_type": "code",
   "execution_count": 40,
   "outputs": [],
   "source": [
    "sequences = sample_sequences(tokenizer, cc_news, 10, 100)"
   ],
   "metadata": {
    "collapsed": false,
    "ExecuteTime": {
     "end_time": "2023-07-27T10:52:22.340753872Z",
     "start_time": "2023-07-27T10:52:22.334109580Z"
    }
   }
  },
  {
   "cell_type": "code",
   "execution_count": 6,
   "outputs": [],
   "source": [
    "query = sequences[0][None, :].cuda()\n",
    "# res = model.generate(query, max_new_tokens=20, output_scores=True, do_sample=True, num_return_sequences=3)"
   ],
   "metadata": {
    "collapsed": false,
    "ExecuteTime": {
     "end_time": "2023-07-27T08:08:00.902273326Z",
     "start_time": "2023-07-27T08:08:00.901707850Z"
    }
   }
  },
  {
   "cell_type": "code",
   "execution_count": 7,
   "outputs": [],
   "source": [
    "# type(model)\n",
    "res = model(query)\n"
   ],
   "metadata": {
    "collapsed": false,
    "ExecuteTime": {
     "end_time": "2023-07-27T08:08:01.411909398Z",
     "start_time": "2023-07-27T08:08:00.901900798Z"
    }
   }
  },
  {
   "cell_type": "code",
   "execution_count": 8,
   "outputs": [
    {
     "data": {
      "text/plain": "torch.Size([1, 20, 32000])"
     },
     "execution_count": 8,
     "metadata": {},
     "output_type": "execute_result"
    }
   ],
   "source": [
    "res.logits.shape"
   ],
   "metadata": {
    "collapsed": false,
    "ExecuteTime": {
     "end_time": "2023-07-27T08:08:01.412271254Z",
     "start_time": "2023-07-27T08:08:01.411770269Z"
    }
   }
  },
  {
   "cell_type": "code",
   "execution_count": 24,
   "outputs": [],
   "source": [
    "idx = torch.topk(res.logits, k=2).indices"
   ],
   "metadata": {
    "collapsed": false,
    "ExecuteTime": {
     "end_time": "2023-07-27T10:43:03.747734452Z",
     "start_time": "2023-07-27T10:43:03.747458965Z"
    }
   }
  },
  {
   "cell_type": "code",
   "execution_count": 15,
   "outputs": [
    {
     "data": {
      "text/plain": "tensor([[    1, 21184,  1341,   265, 10120, 16369, 29901, 21184,  1341,   265,\n         10120,   830,  4011,  3824,   751,  4254, 29871, 29906, 29900, 29896]],\n       device='cuda:0')"
     },
     "execution_count": 15,
     "metadata": {},
     "output_type": "execute_result"
    }
   ],
   "source": [
    "query"
   ],
   "metadata": {
    "collapsed": false,
    "ExecuteTime": {
     "end_time": "2023-07-27T10:40:21.465785660Z",
     "start_time": "2023-07-27T10:40:21.464782542Z"
    }
   }
  },
  {
   "cell_type": "code",
   "execution_count": 25,
   "outputs": [
    {
     "data": {
      "text/plain": "[False,\n False,\n True,\n True,\n True,\n True,\n True,\n True,\n True,\n True,\n False,\n True,\n False,\n True,\n True,\n True,\n True,\n True,\n True]"
     },
     "execution_count": 25,
     "metadata": {},
     "output_type": "execute_result"
    }
   ],
   "source": [
    "[query[0][i+1] in idx[0][i] for i in range(len(query[0]) - 1)]"
   ],
   "metadata": {
    "collapsed": false,
    "ExecuteTime": {
     "end_time": "2023-07-27T10:43:05.693680606Z",
     "start_time": "2023-07-27T10:43:05.692800966Z"
    }
   }
  },
  {
   "cell_type": "code",
   "execution_count": 27,
   "outputs": [
    {
     "data": {
      "text/plain": "tensor([[    1, 21184,  1341,   265, 10120, 16369, 29901, 21184,  1341,   265,\n         10120,   830,  4011,  3824,   751,  4254, 29871, 29906, 29900, 29896]],\n       device='cuda:0')"
     },
     "execution_count": 27,
     "metadata": {},
     "output_type": "execute_result"
    }
   ],
   "source": [
    "query"
   ],
   "metadata": {
    "collapsed": false,
    "ExecuteTime": {
     "end_time": "2023-07-27T10:43:23.918317574Z",
     "start_time": "2023-07-27T10:43:23.917421837Z"
    }
   }
  },
  {
   "cell_type": "code",
   "execution_count": 31,
   "outputs": [
    {
     "name": "stdout",
     "output_type": "stream",
     "text": [
      "21184 tensor([396, 917], device='cuda:0')\n",
      "1341 tensor([29901, 29899], device='cuda:0')\n",
      "265 tensor([ 265, 2463], device='cuda:0')\n",
      "10120 tensor([10120,   357], device='cuda:0')\n",
      "16369 tensor([16369,  9266], device='cuda:0')\n",
      "29901 tensor([  313, 29901], device='cuda:0')\n",
      "21184 tensor([21184,  3824], device='cuda:0')\n",
      "1341 tensor([ 1341, 14438], device='cuda:0')\n",
      "265 tensor([265, 856], device='cuda:0')\n",
      "10120 tensor([10120,   357], device='cuda:0')\n",
      "830 tensor([16369,  8081], device='cuda:0')\n",
      "4011 tensor([ 4011, 14520], device='cuda:0')\n",
      "3824 tensor([4231,  373], device='cuda:0')\n",
      "751 tensor([  751, 28144], device='cuda:0')\n",
      "4254 tensor([4254,  856], device='cuda:0')\n",
      "29871 tensor([29871, 17212], device='cuda:0')\n",
      "29906 tensor([29906, 29896], device='cuda:0')\n",
      "29900 tensor([29900, 29896], device='cuda:0')\n",
      "29896 tensor([29896, 29906], device='cuda:0')\n"
     ]
    }
   ],
   "source": [],
   "metadata": {
    "collapsed": false,
    "ExecuteTime": {
     "end_time": "2023-07-27T10:45:31.886833700Z",
     "start_time": "2023-07-27T10:45:31.885929177Z"
    }
   }
  },
  {
   "cell_type": "code",
   "execution_count": 33,
   "outputs": [],
   "source": [
    "\n",
    "res2 = model(sequences[0][None, :10].cuda())\n"
   ],
   "metadata": {
    "collapsed": false,
    "ExecuteTime": {
     "end_time": "2023-07-27T10:48:44.883960811Z",
     "start_time": "2023-07-27T10:48:44.827692266Z"
    }
   }
  },
  {
   "cell_type": "code",
   "execution_count": 38,
   "outputs": [
    {
     "data": {
      "text/plain": "tensor([-5.1044, -8.2341,  5.8011, -0.0318, -1.4130,  2.4803, -1.1917, -1.9396,\n         0.2337, -1.7546], device='cuda:0', grad_fn=<SliceBackward0>)"
     },
     "execution_count": 38,
     "metadata": {},
     "output_type": "execute_result"
    }
   ],
   "source": [
    "res2.logits[0, 9, :10]"
   ],
   "metadata": {
    "collapsed": false,
    "ExecuteTime": {
     "end_time": "2023-07-27T10:49:36.344267768Z",
     "start_time": "2023-07-27T10:49:36.343608962Z"
    }
   }
  },
  {
   "cell_type": "code",
   "execution_count": 39,
   "outputs": [
    {
     "data": {
      "text/plain": "tensor([-5.1044, -8.2341,  5.8011, -0.0318, -1.4130,  2.4803, -1.1917, -1.9396,\n         0.2337, -1.7546], device='cuda:0', grad_fn=<SliceBackward0>)"
     },
     "execution_count": 39,
     "metadata": {},
     "output_type": "execute_result"
    }
   ],
   "source": [
    "res.logits[0, 9, :10]"
   ],
   "metadata": {
    "collapsed": false,
    "ExecuteTime": {
     "end_time": "2023-07-27T10:49:41.261265151Z",
     "start_time": "2023-07-27T10:49:41.260876659Z"
    }
   }
  },
  {
   "cell_type": "code",
   "execution_count": 45,
   "outputs": [],
   "source": [
    "for seq in sequences[:3]:\n",
    "    res = model.generate(seq[None, :].cuda(), max_new_tokens = 100)\n",
    "    # model.generate()"
   ],
   "metadata": {
    "collapsed": false,
    "ExecuteTime": {
     "end_time": "2023-07-27T10:54:32.003357289Z",
     "start_time": "2023-07-27T10:54:23.911951800Z"
    }
   }
  },
  {
   "cell_type": "code",
   "execution_count": 48,
   "outputs": [],
   "source": [
    "out = model(res.cuda())"
   ],
   "metadata": {
    "collapsed": false,
    "ExecuteTime": {
     "end_time": "2023-07-27T10:56:08.682337794Z",
     "start_time": "2023-07-27T10:56:08.477281988Z"
    }
   }
  },
  {
   "cell_type": "code",
   "execution_count": 61,
   "outputs": [
    {
     "data": {
      "text/plain": "torch.Size([1, 32, 110, 128])"
     },
     "execution_count": 61,
     "metadata": {},
     "output_type": "execute_result"
    }
   ],
   "source": [
    "out.past_key_values[3][0].shape"
   ],
   "metadata": {
    "collapsed": false,
    "ExecuteTime": {
     "end_time": "2023-07-27T11:10:14.536407431Z",
     "start_time": "2023-07-27T11:10:14.343287445Z"
    }
   }
  },
  {
   "cell_type": "code",
   "execution_count": 62,
   "outputs": [],
   "source": [
    "pkv = out.past_key_values"
   ],
   "metadata": {
    "collapsed": false,
    "ExecuteTime": {
     "end_time": "2023-07-27T11:11:49.664790709Z",
     "start_time": "2023-07-27T11:11:49.664346232Z"
    }
   }
  },
  {
   "cell_type": "code",
   "execution_count": 72,
   "outputs": [
    {
     "data": {
      "text/plain": "torch.Size([1, 32, 110, 128])"
     },
     "execution_count": 72,
     "metadata": {},
     "output_type": "execute_result"
    }
   ],
   "source": [
    "#32x2 x 1x32x110x128\n",
    "pkv[0][1].shape"
   ],
   "metadata": {
    "collapsed": false,
    "ExecuteTime": {
     "end_time": "2023-07-27T11:13:00.107576795Z",
     "start_time": "2023-07-27T11:13:00.106720735Z"
    }
   }
  },
  {
   "cell_type": "code",
   "execution_count": 73,
   "outputs": [
    {
     "data": {
      "text/plain": "LlamaForCausalLM(\n  (model): LlamaModel(\n    (embed_tokens): Embedding(32000, 4096, padding_idx=0)\n    (layers): ModuleList(\n      (0-31): 32 x LlamaDecoderLayer(\n        (self_attn): LlamaAttention(\n          (q_proj): Linear(in_features=4096, out_features=4096, bias=False)\n          (k_proj): Linear(in_features=4096, out_features=4096, bias=False)\n          (v_proj): Linear(in_features=4096, out_features=4096, bias=False)\n          (o_proj): Linear(in_features=4096, out_features=4096, bias=False)\n          (rotary_emb): LlamaRotaryEmbedding()\n        )\n        (mlp): LlamaMLP(\n          (gate_proj): Linear(in_features=4096, out_features=11008, bias=False)\n          (down_proj): Linear(in_features=11008, out_features=4096, bias=False)\n          (up_proj): Linear(in_features=4096, out_features=11008, bias=False)\n          (act_fn): SiLUActivation()\n        )\n        (input_layernorm): LlamaRMSNorm()\n        (post_attention_layernorm): LlamaRMSNorm()\n      )\n    )\n    (norm): LlamaRMSNorm()\n  )\n  (lm_head): Linear(in_features=4096, out_features=32000, bias=False)\n)"
     },
     "execution_count": 73,
     "metadata": {},
     "output_type": "execute_result"
    }
   ],
   "source": [
    "model"
   ],
   "metadata": {
    "collapsed": false,
    "ExecuteTime": {
     "end_time": "2023-07-27T11:13:20.529394716Z",
     "start_time": "2023-07-27T11:13:20.528502134Z"
    }
   }
  },
  {
   "cell_type": "code",
   "execution_count": 87,
   "outputs": [
    {
     "data": {
      "text/plain": "torch.Size([1, 32, 110, 128])"
     },
     "execution_count": 87,
     "metadata": {},
     "output_type": "execute_result"
    }
   ],
   "source": [
    "pkv[28][1].shape"
   ],
   "metadata": {
    "collapsed": false,
    "ExecuteTime": {
     "end_time": "2023-07-27T11:17:03.434086116Z",
     "start_time": "2023-07-27T11:17:03.433393368Z"
    }
   }
  },
  {
   "cell_type": "code",
   "execution_count": 105,
   "outputs": [],
   "source": [
    "logits = out.logits\n",
    "log_n = logits[0] / torch.norm(logits[0], dim=-1, keepdim=True)\n"
   ],
   "metadata": {
    "collapsed": false,
    "ExecuteTime": {
     "end_time": "2023-07-27T11:38:10.791108780Z",
     "start_time": "2023-07-27T11:38:10.790548774Z"
    }
   }
  },
  {
   "cell_type": "code",
   "execution_count": 119,
   "outputs": [],
   "source": [
    "log_probs = torch.log(torch.softmax(logits[0], dim=-1))\n"
   ],
   "metadata": {
    "collapsed": false,
    "ExecuteTime": {
     "end_time": "2023-07-27T11:43:30.677442533Z",
     "start_time": "2023-07-27T11:43:30.671214422Z"
    }
   }
  },
  {
   "cell_type": "code",
   "execution_count": 123,
   "outputs": [
    {
     "data": {
      "text/plain": "torch.return_types.topk(\nvalues=tensor([[-2.5894, -2.6135, -3.1171,  ..., -5.3640, -5.3865, -5.4500],\n        [-1.7240, -2.5850, -3.1739,  ..., -4.7889, -4.8943, -4.9039],\n        [-2.1116, -2.3623, -2.4095,  ..., -5.1073, -5.3166, -5.4554],\n        ...,\n        [-1.4146, -1.8259, -2.2028,  ..., -5.3303, -5.4250, -5.4640],\n        [-0.2075, -1.9197, -3.7225,  ..., -9.7803, -9.8120, -9.8671],\n        [-0.9454, -0.9603, -2.4114,  ..., -7.8228, -8.6324, -8.6560]],\n       device='cuda:0', grad_fn=<TopkBackward0>),\nindices=tensor([[  396,   917,   450,  ...,   349,   317,  2648],\n        [ 1486,   852,   272,  ..., 29965, 29915, 29903],\n        [ 2813,   728,   886,  ...,   328, 22617, 29899],\n        ...,\n        [ 1207,  1831,  5839,  ...,  2186, 28269,  4808],\n        [  263,   967,   278,  ...,   322,   670,   701],\n        [ 2186, 10608,  9262,  ..., 15047,  9226,  1246]], device='cuda:0'))"
     },
     "execution_count": 123,
     "metadata": {},
     "output_type": "execute_result"
    }
   ],
   "source": [
    "s"
   ],
   "metadata": {
    "collapsed": false,
    "ExecuteTime": {
     "end_time": "2023-07-27T11:44:14.002977879Z",
     "start_time": "2023-07-27T11:44:14.002324500Z"
    }
   }
  }
 ],
 "metadata": {
  "kernelspec": {
   "display_name": "Python 3",
   "language": "python",
   "name": "python3"
  },
  "language_info": {
   "codemirror_mode": {
    "name": "ipython",
    "version": 2
   },
   "file_extension": ".py",
   "mimetype": "text/x-python",
   "name": "python",
   "nbconvert_exporter": "python",
   "pygments_lexer": "ipython2",
   "version": "2.7.6"
  }
 },
 "nbformat": 4,
 "nbformat_minor": 0
}
